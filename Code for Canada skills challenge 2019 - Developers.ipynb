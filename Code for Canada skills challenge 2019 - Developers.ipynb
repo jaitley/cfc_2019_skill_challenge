{
 "cells": [
  {
   "cell_type": "markdown",
   "metadata": {},
   "source": [
    "### Import Pandas library for data analysis"
   ]
  },
  {
   "cell_type": "code",
   "execution_count": 44,
   "metadata": {},
   "outputs": [],
   "source": [
    "import pandas as pd"
   ]
  },
  {
   "cell_type": "markdown",
   "metadata": {},
   "source": [
    "### Input Dataset"
   ]
  },
  {
   "cell_type": "code",
   "execution_count": 45,
   "metadata": {},
   "outputs": [],
   "source": [
    "df_data = pd.read_csv(\"C4C-dev-challenge-2018.csv\")"
   ]
  },
  {
   "cell_type": "code",
   "execution_count": 46,
   "metadata": {},
   "outputs": [
    {
     "data": {
      "text/html": [
       "<div>\n",
       "<style scoped>\n",
       "    .dataframe tbody tr th:only-of-type {\n",
       "        vertical-align: middle;\n",
       "    }\n",
       "\n",
       "    .dataframe tbody tr th {\n",
       "        vertical-align: top;\n",
       "    }\n",
       "\n",
       "    .dataframe thead th {\n",
       "        text-align: right;\n",
       "    }\n",
       "</style>\n",
       "<table border=\"1\" class=\"dataframe\">\n",
       "  <thead>\n",
       "    <tr style=\"text-align: right;\">\n",
       "      <th></th>\n",
       "      <th>violation_id</th>\n",
       "      <th>inspection_id</th>\n",
       "      <th>violation_category</th>\n",
       "      <th>violation_date</th>\n",
       "      <th>violation_date_closed</th>\n",
       "      <th>violation_type</th>\n",
       "    </tr>\n",
       "  </thead>\n",
       "  <tbody>\n",
       "    <tr>\n",
       "      <th>0</th>\n",
       "      <td>204851</td>\n",
       "      <td>261019</td>\n",
       "      <td>Garbage and Refuse</td>\n",
       "      <td>2012-01-03 0:00</td>\n",
       "      <td>2012-02-02 0:00</td>\n",
       "      <td>Refuse Accumulation</td>\n",
       "    </tr>\n",
       "    <tr>\n",
       "      <th>1</th>\n",
       "      <td>204852</td>\n",
       "      <td>261019</td>\n",
       "      <td>Unsanitary Conditions</td>\n",
       "      <td>2012-01-03 0:00</td>\n",
       "      <td>2012-02-02 0:00</td>\n",
       "      <td>Unsanitary conditions, not specified</td>\n",
       "    </tr>\n",
       "    <tr>\n",
       "      <th>2</th>\n",
       "      <td>204853</td>\n",
       "      <td>261023</td>\n",
       "      <td>Garbage and Refuse</td>\n",
       "      <td>2012-01-03 0:00</td>\n",
       "      <td>2012-01-17 0:00</td>\n",
       "      <td>Refuse Accumulation</td>\n",
       "    </tr>\n",
       "    <tr>\n",
       "      <th>3</th>\n",
       "      <td>204854</td>\n",
       "      <td>261023</td>\n",
       "      <td>Garbage and Refuse</td>\n",
       "      <td>2012-01-03 0:00</td>\n",
       "      <td>2012-01-17 0:00</td>\n",
       "      <td>Refuse Accumulation</td>\n",
       "    </tr>\n",
       "    <tr>\n",
       "      <th>4</th>\n",
       "      <td>204858</td>\n",
       "      <td>261029</td>\n",
       "      <td>Garbage and Refuse</td>\n",
       "      <td>2012-01-03 0:00</td>\n",
       "      <td>2012-03-12 0:00</td>\n",
       "      <td>Refuse Accumulation</td>\n",
       "    </tr>\n",
       "  </tbody>\n",
       "</table>\n",
       "</div>"
      ],
      "text/plain": [
       "   violation_id  inspection_id     violation_category   violation_date  \\\n",
       "0        204851         261019     Garbage and Refuse  2012-01-03 0:00   \n",
       "1        204852         261019  Unsanitary Conditions  2012-01-03 0:00   \n",
       "2        204853         261023     Garbage and Refuse  2012-01-03 0:00   \n",
       "3        204854         261023     Garbage and Refuse  2012-01-03 0:00   \n",
       "4        204858         261029     Garbage and Refuse  2012-01-03 0:00   \n",
       "\n",
       "  violation_date_closed                        violation_type  \n",
       "0       2012-02-02 0:00                   Refuse Accumulation  \n",
       "1       2012-02-02 0:00  Unsanitary conditions, not specified  \n",
       "2       2012-01-17 0:00                   Refuse Accumulation  \n",
       "3       2012-01-17 0:00                   Refuse Accumulation  \n",
       "4       2012-03-12 0:00                   Refuse Accumulation  "
      ]
     },
     "execution_count": 46,
     "metadata": {},
     "output_type": "execute_result"
    }
   ],
   "source": [
    "df_data.head()"
   ]
  },
  {
   "cell_type": "markdown",
   "metadata": {},
   "source": [
    "### TASK 1 : The number of violations in each category"
   ]
  },
  {
   "cell_type": "code",
   "execution_count": 47,
   "metadata": {},
   "outputs": [],
   "source": [
    "df_groupby_category = df_data.groupby(\"violation_category\")"
   ]
  },
  {
   "cell_type": "markdown",
   "metadata": {},
   "source": [
    "#### FINAL OUTPUT:"
   ]
  },
  {
   "cell_type": "code",
   "execution_count": 48,
   "metadata": {},
   "outputs": [
    {
     "data": {
      "text/plain": [
       "violation_category\n",
       "Air Pollutants and Odors      2\n",
       "Animals and Pests           180\n",
       "Biohazards                    7\n",
       "Building Conditions          62\n",
       "Chemical Hazards             17\n",
       "Garbage and Refuse          126\n",
       "Retail Food                   1\n",
       "Unsanitary Conditions        83\n",
       "Vegetation                   67\n",
       "Name: violation_id, dtype: int64"
      ]
     },
     "execution_count": 48,
     "metadata": {},
     "output_type": "execute_result"
    }
   ],
   "source": [
    "df_groupby_category.violation_id.count()"
   ]
  },
  {
   "cell_type": "markdown",
   "metadata": {},
   "source": [
    "### Task 2: The earliest and latest violation date for each category\n"
   ]
  },
  {
   "cell_type": "code",
   "execution_count": 49,
   "metadata": {},
   "outputs": [],
   "source": [
    "out_columns = [\"earliest_violation_date\", \"latest_violation_date\"]"
   ]
  },
  {
   "cell_type": "code",
   "execution_count": 50,
   "metadata": {},
   "outputs": [],
   "source": [
    "df_data[\"earliest_violation_date\"]  = df_groupby_category[\"violation_date\"].transform('min')\n",
    "df_data[\"latest_violation_date\"]  = df_groupby_category[\"violation_date\"].transform('max')"
   ]
  },
  {
   "cell_type": "code",
   "execution_count": 51,
   "metadata": {},
   "outputs": [],
   "source": [
    "df_data.set_index(\"violation_category\", inplace=True)"
   ]
  },
  {
   "cell_type": "code",
   "execution_count": 52,
   "metadata": {},
   "outputs": [],
   "source": [
    "df_output = df_data[out_columns].drop_duplicates()"
   ]
  },
  {
   "cell_type": "markdown",
   "metadata": {},
   "source": [
    "#### FINAL OUTPUT:"
   ]
  },
  {
   "cell_type": "code",
   "execution_count": 54,
   "metadata": {},
   "outputs": [
    {
     "data": {
      "text/html": [
       "<div>\n",
       "<style scoped>\n",
       "    .dataframe tbody tr th:only-of-type {\n",
       "        vertical-align: middle;\n",
       "    }\n",
       "\n",
       "    .dataframe tbody tr th {\n",
       "        vertical-align: top;\n",
       "    }\n",
       "\n",
       "    .dataframe thead th {\n",
       "        text-align: right;\n",
       "    }\n",
       "</style>\n",
       "<table border=\"1\" class=\"dataframe\">\n",
       "  <thead>\n",
       "    <tr style=\"text-align: right;\">\n",
       "      <th></th>\n",
       "      <th>earliest_violation_date</th>\n",
       "      <th>latest_violation_date</th>\n",
       "    </tr>\n",
       "    <tr>\n",
       "      <th>violation_category</th>\n",
       "      <th></th>\n",
       "      <th></th>\n",
       "    </tr>\n",
       "  </thead>\n",
       "  <tbody>\n",
       "    <tr>\n",
       "      <th>Air Pollutants and Odors</th>\n",
       "      <td>2012-12-05 0:00</td>\n",
       "      <td>2012-12-19 0:00</td>\n",
       "    </tr>\n",
       "    <tr>\n",
       "      <th>Animals and Pests</th>\n",
       "      <td>2012-01-03 0:00</td>\n",
       "      <td>2012-12-28 0:00</td>\n",
       "    </tr>\n",
       "    <tr>\n",
       "      <th>Biohazards</th>\n",
       "      <td>2012-04-13 0:00</td>\n",
       "      <td>2012-12-18 0:00</td>\n",
       "    </tr>\n",
       "    <tr>\n",
       "      <th>Building Conditions</th>\n",
       "      <td>2012-01-12 0:00</td>\n",
       "      <td>2012-12-26 0:00</td>\n",
       "    </tr>\n",
       "    <tr>\n",
       "      <th>Chemical Hazards</th>\n",
       "      <td>2012-02-08 0:00</td>\n",
       "      <td>2012-12-06 0:00</td>\n",
       "    </tr>\n",
       "    <tr>\n",
       "      <th>Garbage and Refuse</th>\n",
       "      <td>2012-01-03 0:00</td>\n",
       "      <td>2012-12-21 0:00</td>\n",
       "    </tr>\n",
       "    <tr>\n",
       "      <th>Retail Food</th>\n",
       "      <td>2012-12-20 0:00</td>\n",
       "      <td>2012-12-20 0:00</td>\n",
       "    </tr>\n",
       "    <tr>\n",
       "      <th>Unsanitary Conditions</th>\n",
       "      <td>2012-01-03 0:00</td>\n",
       "      <td>2012-12-19 0:00</td>\n",
       "    </tr>\n",
       "    <tr>\n",
       "      <th>Vegetation</th>\n",
       "      <td>2012-02-01 0:00</td>\n",
       "      <td>2012-12-05 0:00</td>\n",
       "    </tr>\n",
       "  </tbody>\n",
       "</table>\n",
       "</div>"
      ],
      "text/plain": [
       "                         earliest_violation_date latest_violation_date\n",
       "violation_category                                                    \n",
       "Air Pollutants and Odors         2012-12-05 0:00       2012-12-19 0:00\n",
       "Animals and Pests                2012-01-03 0:00       2012-12-28 0:00\n",
       "Biohazards                       2012-04-13 0:00       2012-12-18 0:00\n",
       "Building Conditions              2012-01-12 0:00       2012-12-26 0:00\n",
       "Chemical Hazards                 2012-02-08 0:00       2012-12-06 0:00\n",
       "Garbage and Refuse               2012-01-03 0:00       2012-12-21 0:00\n",
       "Retail Food                      2012-12-20 0:00       2012-12-20 0:00\n",
       "Unsanitary Conditions            2012-01-03 0:00       2012-12-19 0:00\n",
       "Vegetation                       2012-02-01 0:00       2012-12-05 0:00"
      ]
     },
     "execution_count": 54,
     "metadata": {},
     "output_type": "execute_result"
    }
   ],
   "source": [
    "df_output.sort_index()"
   ]
  },
  {
   "cell_type": "code",
   "execution_count": null,
   "metadata": {},
   "outputs": [],
   "source": []
  }
 ],
 "metadata": {
  "kernelspec": {
   "display_name": "Python 3",
   "language": "python",
   "name": "python3"
  },
  "language_info": {
   "codemirror_mode": {
    "name": "ipython",
    "version": 3
   },
   "file_extension": ".py",
   "mimetype": "text/x-python",
   "name": "python",
   "nbconvert_exporter": "python",
   "pygments_lexer": "ipython3",
   "version": "3.7.1"
  }
 },
 "nbformat": 4,
 "nbformat_minor": 2
}
